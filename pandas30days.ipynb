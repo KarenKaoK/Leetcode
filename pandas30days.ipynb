{
 "cells": [
  {
   "cell_type": "code",
   "execution_count": 2,
   "metadata": {},
   "outputs": [],
   "source": [
    "# day1\n",
    "import pandas as pd\n",
    "\n",
    "def big_countries(world: pd.DataFrame) -> pd.DataFrame:\n",
    "    df = world[(world['area'] >= 3000000) | (world['population'] >= 25000000)]\n",
    "    df = df[['name', 'population', 'area']]\n",
    "    return df\n"
   ]
  },
  {
   "cell_type": "code",
   "execution_count": null,
   "metadata": {},
   "outputs": [],
   "source": [
    "# day2\n",
    "import pandas as pd\n",
    "\n",
    "def find_products(products: pd.DataFrame) -> pd.DataFrame:\n",
    "    df = products[(products['low_fats'] == 'Y' ) & (products['recyclable'] == 'Y')]\n",
    "    return pd.DataFrame(df['product_id'])"
   ]
  },
  {
   "cell_type": "code",
   "execution_count": null,
   "metadata": {},
   "outputs": [],
   "source": [
    "# day 3\n",
    "\n",
    "import pandas as pd\n",
    "\n",
    "def find_customers(customers: pd.DataFrame, orders: pd.DataFrame) -> pd.DataFrame:\n",
    "    df = customers[~customers['id'].isin(orders['customerId'])]\n",
    "    df.rename(columns = {'name':'Customers'}, inplace = True)\n",
    "    return pd.DataFrame(df['Customers'])"
   ]
  },
  {
   "cell_type": "code",
   "execution_count": null,
   "metadata": {},
   "outputs": [],
   "source": [
    "# day 4\n",
    "\n",
    "def article_views(views: pd.DataFrame) -> pd.DataFrame:\n",
    "    df = views[views['author_id'] == views['viewer_id']]\n",
    "    df['id'] = df['author_id']\n",
    "    df = df[['id']]\n",
    "    df = df.sort_values(by=['id'], ascending=True)\n",
    "    df = df.drop_duplicates()\n",
    "    return df\n",
    "\n",
    "# other solution \n",
    "\n",
    "def article_views(views: pd.DataFrame) -> pd.DataFrame:\n",
    "\n",
    "    authors_viewed_own_articles = views[views['author_id'] == views['viewer_id']]\n",
    "    unique_authors = authors_viewed_own_articles['author_id'].unique()\n",
    "    unique_authors = sorted(unique_authors)\n",
    "    result_df = pd.DataFrame({'id': unique_authors})\n",
    "    return result_df\n",
    "\n",
    "# cool solution \n",
    "def article_views(views: pd.DataFrame) -> pd.DataFrame:\n",
    "    \n",
    "    return views.loc[\n",
    "        views['author_id'] == views['viewer_id'], ['author_id']\n",
    "    ].drop_duplicates().rename(columns={\n",
    "        'author_id': 'id',\n",
    "    }).sort_values(\n",
    "        by=['id'],\n",
    "    )"
   ]
  }
 ],
 "metadata": {
  "kernelspec": {
   "display_name": "healthon",
   "language": "python",
   "name": "python3"
  },
  "language_info": {
   "codemirror_mode": {
    "name": "ipython",
    "version": 3
   },
   "file_extension": ".py",
   "mimetype": "text/x-python",
   "name": "python",
   "nbconvert_exporter": "python",
   "pygments_lexer": "ipython3",
   "version": "3.6.9"
  },
  "orig_nbformat": 4
 },
 "nbformat": 4,
 "nbformat_minor": 2
}
