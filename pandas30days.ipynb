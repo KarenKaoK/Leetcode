{
 "cells": [
  {
   "cell_type": "code",
   "execution_count": 2,
   "metadata": {},
   "outputs": [],
   "source": [
    "# day1\n",
    "import pandas as pd\n",
    "\n",
    "def big_countries(world: pd.DataFrame) -> pd.DataFrame:\n",
    "    df = world[(world['area'] >= 3000000) | (world['population'] >= 25000000)]\n",
    "    df = df[['name', 'population', 'area']]\n",
    "    return df\n"
   ]
  },
  {
   "cell_type": "code",
   "execution_count": null,
   "metadata": {},
   "outputs": [],
   "source": [
    "# day2\n",
    "import pandas as pd\n",
    "\n",
    "def find_products(products: pd.DataFrame) -> pd.DataFrame:\n",
    "    df = products[(products['low_fats'] == 'Y' ) & (products['recyclable'] == 'Y')]\n",
    "    return pd.DataFrame(df['product_id'])"
   ]
  },
  {
   "cell_type": "code",
   "execution_count": null,
   "metadata": {},
   "outputs": [],
   "source": [
    "# day 3\n",
    "\n",
    "import pandas as pd\n",
    "\n",
    "def find_customers(customers: pd.DataFrame, orders: pd.DataFrame) -> pd.DataFrame:\n",
    "    df = customers[~customers['id'].isin(orders['customerId'])]\n",
    "    df.rename(columns = {'name':'Customers'}, inplace = True)\n",
    "    return pd.DataFrame(df['Customers'])"
   ]
  },
  {
   "cell_type": "code",
   "execution_count": null,
   "metadata": {},
   "outputs": [],
   "source": [
    "# day 4\n",
    "\n",
    "def article_views(views: pd.DataFrame) -> pd.DataFrame:\n",
    "    df = views[views['author_id'] == views['viewer_id']]\n",
    "    df['id'] = df['author_id']\n",
    "    df = df[['id']]\n",
    "    df = df.sort_values(by=['id'], ascending=True)\n",
    "    df = df.drop_duplicates()\n",
    "    return df\n",
    "\n",
    "# other solution \n",
    "\n",
    "def article_views(views: pd.DataFrame) -> pd.DataFrame:\n",
    "\n",
    "    authors_viewed_own_articles = views[views['author_id'] == views['viewer_id']]\n",
    "    unique_authors = authors_viewed_own_articles['author_id'].unique()\n",
    "    unique_authors = sorted(unique_authors)\n",
    "    result_df = pd.DataFrame({'id': unique_authors})\n",
    "    return result_df\n",
    "\n",
    "# cool solution \n",
    "def article_views(views: pd.DataFrame) -> pd.DataFrame:\n",
    "    \n",
    "    return views.loc[\n",
    "        views['author_id'] == views['viewer_id'], ['author_id']\n",
    "    ].drop_duplicates().rename(columns={\n",
    "        'author_id': 'id',\n",
    "    }).sort_values(\n",
    "        by=['id'],\n",
    "    )"
   ]
  },
  {
   "cell_type": "code",
   "execution_count": null,
   "metadata": {},
   "outputs": [],
   "source": [
    "# day 5\n",
    "def invalid_tweets(tweets: pd.DataFrame) -> pd.DataFrame:\n",
    "    tweets['len'] = tweets['content'].apply(lambda x: len(x))\n",
    "    tweets = tweets[tweets['len'] > 15]\n",
    "    tweets = tweets[['tweet_id']]\n",
    "    return tweets"
   ]
  },
  {
   "cell_type": "code",
   "execution_count": null,
   "metadata": {},
   "outputs": [],
   "source": [
    "# day6 \n",
    "\n",
    "'''\n",
    "計算每個員工的獎金:\n",
    "如果 ID 是奇數且員工姓名不是從 Ｍ開始\n",
    "獎金為其 salary，否則 獎金為 0 \n",
    "回傳結果表並用 emplyee_id 排序\n",
    "'''\n",
    "\n",
    "import pandas as pd\n",
    "\n",
    "def calculate_special_bonus(employees: pd.DataFrame) -> pd.DataFrame:\n",
    "\n",
    "    def calculate_bonus(df):\n",
    "        if (df['employee_id'] % 2) == 0:\n",
    "            return 0\n",
    "        elif df['name'].startswith('M'):\n",
    "            return 0\n",
    "        else:\n",
    "            return df['salary']\n",
    "\n",
    "    employees['bonus'] = employees.apply(calculate_bonus,axis =1 )\n",
    "    employees = employees[['employee_id','bonus']].sort_values(by=['employee_id'])\n",
    "    return employees"
   ]
  },
  {
   "cell_type": "code",
   "execution_count": null,
   "metadata": {},
   "outputs": [],
   "source": [
    "# day 7\n",
    "import pandas as pd\n",
    "\n",
    "def fix_names(users: pd.DataFrame) -> pd.DataFrame:\n",
    "    users['name'] = users['name'].apply(lambda x : x[0].upper() + x[1:].lower())\n",
    "    users = users.sort_values(by=['user_id'])\n",
    "    return users \n",
    "\n",
    "# other solution 字首大寫\n",
    "import pandas as pd\n",
    "\n",
    "def fix_names(users: pd.DataFrame) -> pd.DataFrame:\n",
    "    # Apply the str.capitalize() function to fix the names\n",
    "    users['name'] = users['name'].str.capitalize()\n",
    "    \n",
    "    # Sort the result table by user_id in ascending order\n",
    "    result_df = users.sort_values(by='user_id', ascending=True)\n",
    "    \n",
    "    return result_df"
   ]
  },
  {
   "cell_type": "code",
   "execution_count": 11,
   "metadata": {},
   "outputs": [
    {
     "data": {
      "text/plain": [
       "13"
      ]
     },
     "execution_count": 11,
     "metadata": {},
     "output_type": "execute_result"
    }
   ],
   "source": [
    "# day 8\n",
    "import pandas as pd\n",
    "\n",
    "def valid_emails(users: pd.DataFrame) -> pd.DataFrame:\n",
    "    pattern = r\"^[a-zA-Z][a-zA-Z0-9_.\\-]*@leetcode\\.com$\"\n",
    "\n",
    "    users['valid'] = users['mail'].apply(lambda x: True if re.match(pattern, x ) else False)\n",
    "    users = users[users['valid'] == True]\n",
    "    return users[['user_id', 'name', 'mail']]\n",
    "\n",
    "# other solustion \n",
    "def valid_emails(users: pd.DataFrame) -> pd.DataFrame:\n",
    "    # Use the str.match() method with a regex pattern to find valid emails\n",
    "    valid_emails_df = users[users['mail'].str.match(r'^[A-Za-z][A-Za-z0-9_\\.\\-]*@leetcode(\\?com)?\\.com$')]\n",
    "    \n",
    "    return valid_emails_df\n",
    " "
   ]
  },
  {
   "cell_type": "code",
   "execution_count": 18,
   "metadata": {},
   "outputs": [
    {
     "data": {
      "text/plain": [
       "False"
      ]
     },
     "execution_count": 18,
     "metadata": {},
     "output_type": "execute_result"
    }
   ],
   "source": [
    "# day 9\n",
    "import pandas as pd\n",
    "\n",
    "def find_patients(patients: pd.DataFrame) -> pd.DataFrame:\n",
    "\n",
    "    patients = patients[patients['conditions'].str.contains(r'\\bDIAB1', regex=True)]\n",
    "\n",
    "    return patients\n",
    "    "
   ]
  },
  {
   "cell_type": "code",
   "execution_count": null,
   "metadata": {},
   "outputs": [],
   "source": []
  }
 ],
 "metadata": {
  "kernelspec": {
   "display_name": "healthon",
   "language": "python",
   "name": "python3"
  },
  "language_info": {
   "codemirror_mode": {
    "name": "ipython",
    "version": 3
   },
   "file_extension": ".py",
   "mimetype": "text/x-python",
   "name": "python",
   "nbconvert_exporter": "python",
   "pygments_lexer": "ipython3",
   "version": "3.6.9"
  },
  "orig_nbformat": 4
 },
 "nbformat": 4,
 "nbformat_minor": 2
}
